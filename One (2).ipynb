{
 "cells": [
  {
   "cell_type": "code",
   "execution_count": 11,
   "id": "796425ea",
   "metadata": {},
   "outputs": [
    {
     "name": "stdout",
     "output_type": "stream",
     "text": [
      "How much sales did this employee make in this month?\n",
      "22000\n",
      "How much did this employee take as advance pay in this month?\n",
      "200\n",
      "This employee's commission rate for the month is 12 %\n",
      "Their pay for this month is $ 2440.0\n"
     ]
    }
   ],
   "source": [
    "ms = int(input(\"How much sales did this employee make in this month?\\n\"))\n",
    "ap = int(input(\"How much did this employee take as advance pay in this month?\\n\"))\n",
    "\n",
    "if ms < 10000:\n",
    " cr = 0.01\n",
    "elif ms >= 10000 and ms <= 14999:\n",
    " cr = 0.12\n",
    "elif ms >= 15000 and ms <= 17999:\n",
    " cr = 0.14\n",
    "elif ms >= 18000 and ms <= 21999:\n",
    " cr = 0.16\n",
    "elif ms >22000:\n",
    " cr = 0.18\n",
    "crP= int(cr*100)\n",
    "print (\"This employee's commission rate for the month is\", crP,\"%\")\n",
    "\n",
    "def Pay(ms,cr,ap):\n",
    "    result= ms*cr-ap\n",
    "    if result < 0:\n",
    "      print (\"This employee has to reimburse the company by $\",result)\n",
    "    else:\n",
    "      print (\"Their pay for this month is $\",result)\n",
    "\n",
    "Pay(ms,cr,ap)"
   ]
  },
  {
   "cell_type": "code",
   "execution_count": null,
   "id": "652d12b3",
   "metadata": {},
   "outputs": [],
   "source": [
    "\n",
    "\n",
    "\n",
    "\n"
   ]
  },
  {
   "cell_type": "code",
   "execution_count": null,
   "id": "6cdbb580",
   "metadata": {},
   "outputs": [],
   "source": []
  }
 ],
 "metadata": {
  "kernelspec": {
   "display_name": "Python 3 (ipykernel)",
   "language": "python",
   "name": "python3"
  },
  "language_info": {
   "codemirror_mode": {
    "name": "ipython",
    "version": 3
   },
   "file_extension": ".py",
   "mimetype": "text/x-python",
   "name": "python",
   "nbconvert_exporter": "python",
   "pygments_lexer": "ipython3",
   "version": "3.9.12"
  }
 },
 "nbformat": 4,
 "nbformat_minor": 5
}
