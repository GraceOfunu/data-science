{
 "cells": [
  {
   "cell_type": "markdown",
   "id": "e4095367",
   "metadata": {},
   "source": [
    "# Answer to Question on Functions"
   ]
  },
  {
   "cell_type": "code",
   "execution_count": 75,
   "id": "1c736474",
   "metadata": {},
   "outputs": [],
   "source": [
    "def overtime_pay():\n",
    "    y=int(input(\"How many hours did you work this week?\\n\"))\n",
    "    z=int(input(\"What is your base salary for this week?\\n\"))\n",
    "    if y == 40 and z == 1800:\n",
    "        print(\"You did not work overtime this week, your salary is $\", z)\n",
    "    elif y < 40:\n",
    "        u = y*45\n",
    "        print (\"You worked for less than 40 hours this week, your salary is $\", u)\n",
    "    elif y > 40:\n",
    "        u = (y-40)*50\n",
    "        w = u + z\n",
    "        print (\"You worked overtime this week, your overtime pay is $\", u)\n",
    "        print (\"Your total salary is $\", w)\n"
   ]
  },
  {
   "cell_type": "code",
   "execution_count": 76,
   "id": "89dc160a",
   "metadata": {},
   "outputs": [
    {
     "name": "stdout",
     "output_type": "stream",
     "text": [
      "How many hours did you work this week?\n",
      "40\n",
      "What is your base salary for this week?\n",
      "1800\n",
      "You did not work overtime this week, your salary is $ 1800\n"
     ]
    }
   ],
   "source": [
    "overtime_pay()"
   ]
  },
  {
   "cell_type": "code",
   "execution_count": 77,
   "id": "e665598e",
   "metadata": {},
   "outputs": [
    {
     "name": "stdout",
     "output_type": "stream",
     "text": [
      "How many hours did you work this week?\n",
      "60\n",
      "What is your base salary for this week?\n",
      "1800\n",
      "You worked overtime this week, your overtime pay is $ 1000\n",
      "Your total salary is $ 2800\n"
     ]
    }
   ],
   "source": [
    "overtime_pay()"
   ]
  },
  {
   "cell_type": "code",
   "execution_count": 78,
   "id": "e2f3b810",
   "metadata": {},
   "outputs": [
    {
     "name": "stdout",
     "output_type": "stream",
     "text": [
      "How many hours did you work this week?\n",
      "32\n",
      "What is your base salary for this week?\n",
      "1800\n",
      "You worked for less than 40 hours this week, your salary is $ 1440\n"
     ]
    }
   ],
   "source": [
    "overtime_pay()"
   ]
  },
  {
   "cell_type": "markdown",
   "id": "86a87161",
   "metadata": {},
   "source": [
    "# Answer to Question on List"
   ]
  },
  {
   "cell_type": "code",
   "execution_count": 73,
   "id": "c6ac49e6",
   "metadata": {},
   "outputs": [
    {
     "name": "stdout",
     "output_type": "stream",
     "text": [
      "Enter 10 float numbers separated by a comma in order here :\n",
      "1,2,3,g,h,h,r,d\n",
      "Your input does not match the above stated request. Please read the intructions and try again.\n"
     ]
    }
   ],
   "source": [
    "try:\n",
    "    \n",
    "    mylist1 =[float(x) for x in input(\"Enter 10 float numbers separated by a comma in order here :\\n\").split(\",\")]\n",
    "    if len(mylist1) < 10:\n",
    "        print(\"Please enter up to 10 float numbers\")\n",
    "    elif len(mylist1) > 10:\n",
    "        print(\"Please enter only 10 float numbers\")\n",
    "    elif len(mylist1) == 10:\n",
    "        flag = 0\n",
    "        if(mylist1 == sorted(mylist1)):\n",
    "            flag = 1\n",
    "        if (flag) :\n",
    "            mylist2= [x for x in mylist1]\n",
    "            mylist2.sort(reverse=True)\n",
    "            print(\"Your list is in ascending order.\\nHere is your list descending order:\\n mylist2=\" ,mylist2)\n",
    "        else:\n",
    "            print (\"Numbers entered are not in ascending order\")\n",
    "            mylist1.sort()\n",
    "            print(\"This is your list in ascending order\\n\", mylist1)\n",
    "        \n",
    "\n",
    "except:\n",
    "    print(\"Your input does not match the above stated request. Please read the intructions and try again.\")"
   ]
  },
  {
   "cell_type": "markdown",
   "id": "abae1418",
   "metadata": {},
   "source": [
    "# Answer to Question on Dictionary"
   ]
  },
  {
   "cell_type": "markdown",
   "id": "2e3f35e3",
   "metadata": {},
   "source": [
    "### Creating Dictionary"
   ]
  },
  {
   "cell_type": "code",
   "execution_count": 114,
   "id": "e732e0af",
   "metadata": {},
   "outputs": [
    {
     "name": "stdout",
     "output_type": "stream",
     "text": [
      "{'School': 'MTSU', 'Textbooks': '14', 'Level': 'Elementary', 'Hobby': 'Dancing', 'Height': '4.5inch', 'Food': 'Amala'}\n"
     ]
    }
   ],
   "source": [
    "my_dict1={\"School\":\"MTSU\", \"Textbooks\":\"14\", \"Level\":\"Elementary\", \"Hobby\":\"Dancing\", \"Height\":\"4.5inch\", \"Food\":\"Amala\"}\n",
    "print(my_dict1)"
   ]
  },
  {
   "cell_type": "markdown",
   "id": "76959f96",
   "metadata": {},
   "source": [
    "### Updating Dictionary"
   ]
  },
  {
   "cell_type": "code",
   "execution_count": 115,
   "id": "dbb9bbf6",
   "metadata": {},
   "outputs": [
    {
     "name": "stdout",
     "output_type": "stream",
     "text": [
      "{'School': 'FUTMinna', 'Textbooks': '14', 'Level': 'Elementary', 'Hobby': 'Reading', 'Height': '4.5inch', 'Food': 'Spaghetti'}\n"
     ]
    }
   ],
   "source": [
    "my_dict1.update(School=\"FUTMinna\", Hobby= \"Reading\" , Food=\"Spaghetti\",)\n",
    "print(my_dict1)"
   ]
  },
  {
   "cell_type": "markdown",
   "id": "f6792edf",
   "metadata": {},
   "source": [
    "### Adding New Key-Value Pairs"
   ]
  },
  {
   "cell_type": "code",
   "execution_count": 116,
   "id": "f3794314",
   "metadata": {},
   "outputs": [
    {
     "name": "stdout",
     "output_type": "stream",
     "text": [
      "{'School': 'FUTMinna', 'Textbooks': '14', 'Level': 'Elementary', 'Hobby': 'Reading', 'Height': '4.5inch', 'Food': 'Spaghetti', 'Location': 'Nigeria', 'Is_graduated': 'Yes'}\n"
     ]
    }
   ],
   "source": [
    "my_dict1[\"Location\"]= \"Nigeria\"\n",
    "my_dict1[\"Is_graduated\"]= \"Yes\"\n",
    "print(my_dict1)"
   ]
  },
  {
   "cell_type": "markdown",
   "id": "d19402dc",
   "metadata": {},
   "source": [
    "### Removing/Deleting Key-Value Pairs"
   ]
  },
  {
   "cell_type": "code",
   "execution_count": 117,
   "id": "28e2f138",
   "metadata": {},
   "outputs": [
    {
     "name": "stdout",
     "output_type": "stream",
     "text": [
      "{'School': 'FUTMinna', 'Textbooks': '14', 'Level': 'Elementary', 'Height': '4.5inch', 'Food': 'Spaghetti', 'Location': 'Nigeria'}\n"
     ]
    }
   ],
   "source": [
    "my_dict1.pop(\"Hobby\", None)\n",
    "my_dict1.popitem()\n",
    "print(my_dict1)"
   ]
  },
  {
   "cell_type": "markdown",
   "id": "c3569f31",
   "metadata": {},
   "source": [
    "# Answer to Question on Numpy"
   ]
  },
  {
   "cell_type": "code",
   "execution_count": 118,
   "id": "e974f0b7",
   "metadata": {},
   "outputs": [],
   "source": [
    "import numpy as np"
   ]
  },
  {
   "cell_type": "markdown",
   "id": "8f3a69b2",
   "metadata": {},
   "source": [
    "### Creating Myarray1"
   ]
  },
  {
   "cell_type": "code",
   "execution_count": 144,
   "id": "152de88a",
   "metadata": {},
   "outputs": [
    {
     "name": "stdout",
     "output_type": "stream",
     "text": [
      "[[1. 1. 1. 1. 1. 1. 1. 1. 1. 1. 1.]\n",
      " [1. 1. 1. 1. 1. 1. 1. 1. 1. 1. 1.]\n",
      " [1. 1. 1. 1. 1. 1. 1. 1. 1. 1. 1.]\n",
      " [1. 1. 1. 1. 1. 1. 1. 1. 1. 1. 1.]\n",
      " [1. 1. 1. 1. 1. 1. 1. 1. 1. 1. 1.]\n",
      " [1. 1. 1. 1. 1. 1. 1. 1. 1. 1. 1.]\n",
      " [1. 1. 1. 1. 1. 1. 1. 1. 1. 1. 1.]\n",
      " [1. 1. 1. 1. 1. 1. 1. 1. 1. 1. 1.]\n",
      " [1. 1. 1. 1. 1. 1. 1. 1. 1. 1. 1.]\n",
      " [1. 1. 1. 1. 1. 1. 1. 1. 1. 1. 1.]\n",
      " [1. 1. 1. 1. 1. 1. 1. 1. 1. 1. 1.]\n",
      " [1. 1. 1. 1. 1. 1. 1. 1. 1. 1. 1.]\n",
      " [1. 1. 1. 1. 1. 1. 1. 1. 1. 1. 1.]\n",
      " [1. 1. 1. 1. 1. 1. 1. 1. 1. 1. 1.]\n",
      " [1. 1. 1. 1. 1. 1. 1. 1. 1. 1. 1.]\n",
      " [1. 1. 1. 1. 1. 1. 1. 1. 1. 1. 1.]\n",
      " [1. 1. 1. 1. 1. 1. 1. 1. 1. 1. 1.]\n",
      " [1. 1. 1. 1. 1. 1. 1. 1. 1. 1. 1.]\n",
      " [1. 1. 1. 1. 1. 1. 1. 1. 1. 1. 1.]\n",
      " [1. 1. 1. 1. 1. 1. 1. 1. 1. 1. 1.]]\n"
     ]
    }
   ],
   "source": [
    "myarray1= np.ones((20,11))\n",
    "print (myarray1)"
   ]
  },
  {
   "cell_type": "markdown",
   "id": "cf14fd44",
   "metadata": {},
   "source": [
    "### Scalar Multiplication"
   ]
  },
  {
   "cell_type": "code",
   "execution_count": 145,
   "id": "e59418e3",
   "metadata": {},
   "outputs": [
    {
     "data": {
      "text/plain": [
       "array([[0.5, 0.5, 0.5, 0.5, 0.5, 0.5, 0.5, 0.5, 0.5, 0.5, 0.5],\n",
       "       [0.5, 0.5, 0.5, 0.5, 0.5, 0.5, 0.5, 0.5, 0.5, 0.5, 0.5],\n",
       "       [0.5, 0.5, 0.5, 0.5, 0.5, 0.5, 0.5, 0.5, 0.5, 0.5, 0.5],\n",
       "       [0.5, 0.5, 0.5, 0.5, 0.5, 0.5, 0.5, 0.5, 0.5, 0.5, 0.5],\n",
       "       [0.5, 0.5, 0.5, 0.5, 0.5, 0.5, 0.5, 0.5, 0.5, 0.5, 0.5],\n",
       "       [0.5, 0.5, 0.5, 0.5, 0.5, 0.5, 0.5, 0.5, 0.5, 0.5, 0.5],\n",
       "       [0.5, 0.5, 0.5, 0.5, 0.5, 0.5, 0.5, 0.5, 0.5, 0.5, 0.5],\n",
       "       [0.5, 0.5, 0.5, 0.5, 0.5, 0.5, 0.5, 0.5, 0.5, 0.5, 0.5],\n",
       "       [0.5, 0.5, 0.5, 0.5, 0.5, 0.5, 0.5, 0.5, 0.5, 0.5, 0.5],\n",
       "       [0.5, 0.5, 0.5, 0.5, 0.5, 0.5, 0.5, 0.5, 0.5, 0.5, 0.5],\n",
       "       [0.5, 0.5, 0.5, 0.5, 0.5, 0.5, 0.5, 0.5, 0.5, 0.5, 0.5],\n",
       "       [0.5, 0.5, 0.5, 0.5, 0.5, 0.5, 0.5, 0.5, 0.5, 0.5, 0.5],\n",
       "       [0.5, 0.5, 0.5, 0.5, 0.5, 0.5, 0.5, 0.5, 0.5, 0.5, 0.5],\n",
       "       [0.5, 0.5, 0.5, 0.5, 0.5, 0.5, 0.5, 0.5, 0.5, 0.5, 0.5],\n",
       "       [0.5, 0.5, 0.5, 0.5, 0.5, 0.5, 0.5, 0.5, 0.5, 0.5, 0.5],\n",
       "       [0.5, 0.5, 0.5, 0.5, 0.5, 0.5, 0.5, 0.5, 0.5, 0.5, 0.5],\n",
       "       [0.5, 0.5, 0.5, 0.5, 0.5, 0.5, 0.5, 0.5, 0.5, 0.5, 0.5],\n",
       "       [0.5, 0.5, 0.5, 0.5, 0.5, 0.5, 0.5, 0.5, 0.5, 0.5, 0.5],\n",
       "       [0.5, 0.5, 0.5, 0.5, 0.5, 0.5, 0.5, 0.5, 0.5, 0.5, 0.5],\n",
       "       [0.5, 0.5, 0.5, 0.5, 0.5, 0.5, 0.5, 0.5, 0.5, 0.5, 0.5]])"
      ]
     },
     "execution_count": 145,
     "metadata": {},
     "output_type": "execute_result"
    }
   ],
   "source": [
    "a = 0.5\n",
    "np.multiply(myarray1, a)"
   ]
  },
  {
   "cell_type": "markdown",
   "id": "45f70ab8",
   "metadata": {},
   "source": [
    "### Updating Array"
   ]
  },
  {
   "cell_type": "code",
   "execution_count": 142,
   "id": "8f2cfbea",
   "metadata": {},
   "outputs": [
    {
     "name": "stdout",
     "output_type": "stream",
     "text": [
      "[[ 9.5  1.   1.   1.   1.   1.   1.   1.   1.   1.   1.   1.   1.   1.\n",
      "   1.   1.   1.   1.   1.   1. ]\n",
      " [ 9.5  1.   1.   1.   1.   1.   1.   1.   1.   1.   1.   1.   1.   1.\n",
      "   1.   1.   1.   1.   1.   1. ]\n",
      " [ 9.5  1.   1.   1.   1.   1.   1.   1.   1.   1.   1.   1.   1.   1.\n",
      "   1.   1.   1.   1.   1.   1. ]\n",
      " [ 9.5  1.   1.   1.   1.   1.   1.   1.   1.   1.   1.   1.   1.   1.\n",
      "   1.   1.   1.   1.   1.   1. ]\n",
      " [ 9.5  1.   1.   1.   1.   1.   1.   1.   1.   1.   1.   1.   1.   1.\n",
      "   1.   1.   1.   1.   1.   1. ]\n",
      " [ 9.5 10.5 10.5 10.5 10.5 10.5 10.5 10.5 10.5 10.5 10.5 10.5 10.5 10.5\n",
      "  10.5 10.5 10.5 10.5 10.5 10.5]\n",
      " [ 9.5 11.5 11.5 11.5 11.5 11.5 11.5 11.5 11.5 11.5 11.5 11.5 11.5 11.5\n",
      "  11.5 11.5 11.5 11.5 11.5 11.5]\n",
      " [ 9.5  1.   1.   1.   1.   1.   1.   1.   1.   1.   1.   1.   1.   1.\n",
      "   1.   1.   1.   1.   1.   1. ]\n",
      " [ 9.5  1.   1.   1.   1.   1.   1.   1.   1.   1.   1.   1.   1.   1.\n",
      "   1.   1.   1.   1.   1.   1. ]\n",
      " [ 9.5  1.   1.   1.   1.   1.   1.   1.   1.   1.   1.   1.   1.   1.\n",
      "   1.   1.   1.   1.   1.   1. ]\n",
      " [ 9.5  1.   1.   1.   1.   1.   1.   1.   1.   1.   1.   1.   1.   1.\n",
      "   1.   1.   1.   1.   1.   1. ]]\n"
     ]
    }
   ],
   "source": [
    "myarray1[5] = 10.5\n",
    "myarray1[6] = 11.5\n",
    "myarray1[:,0] = 9.5\n",
    "print(myarray1)"
   ]
  },
  {
   "cell_type": "markdown",
   "id": "2ea1f5bc",
   "metadata": {},
   "source": [
    "### Slicing Myarray1"
   ]
  },
  {
   "cell_type": "code",
   "execution_count": 147,
   "id": "3198ff4c",
   "metadata": {},
   "outputs": [
    {
     "name": "stdout",
     "output_type": "stream",
     "text": [
      "[[1. 1. 1. 1. 1. 1. 1. 1. 1. 1. 1.]\n",
      " [1. 1. 1. 1. 1. 1. 1. 1. 1. 1. 1.]\n",
      " [1. 1. 1. 1. 1. 1. 1. 1. 1. 1. 1.]\n",
      " [1. 1. 1. 1. 1. 1. 1. 1. 1. 1. 1.]\n",
      " [1. 1. 1. 1. 1. 1. 1. 1. 1. 1. 1.]\n",
      " [1. 1. 1. 1. 1. 1. 1. 1. 1. 1. 1.]]\n"
     ]
    }
   ],
   "source": [
    "print (myarray1[4:10])"
   ]
  },
  {
   "cell_type": "code",
   "execution_count": 149,
   "id": "4696c640",
   "metadata": {},
   "outputs": [
    {
     "name": "stdout",
     "output_type": "stream",
     "text": [
      "[[1. 1. 1. 1. 1. 1. 1. 1. 1. 1. 1.]\n",
      " [1. 1. 1. 1. 1. 1. 1. 1. 1. 1. 1.]\n",
      " [1. 1. 1. 1. 1. 1. 1. 1. 1. 1. 1.]]\n"
     ]
    }
   ],
   "source": [
    "print (myarray1[5:8])"
   ]
  },
  {
   "cell_type": "markdown",
   "id": "3ec7b6f7",
   "metadata": {},
   "source": [
    "## Merging "
   ]
  },
  {
   "cell_type": "code",
   "execution_count": 160,
   "id": "3ab86863",
   "metadata": {},
   "outputs": [
    {
     "name": "stdout",
     "output_type": "stream",
     "text": [
      "[1. 1. 1. 1. 1. 1. 1. 1. 1. 1. 1. 1. 1. 1. 1. 1. 1. 1. 1. 1. 1. 1. 1. 1.\n",
      " 1. 1. 1. 1. 1. 1. 1. 1. 1. 1. 1. 1. 1. 1. 1. 1.]\n"
     ]
    }
   ],
   "source": [
    "a6= myarray1[:,5]\n",
    "a8= myarray1[:,7]\n",
    "print (np.hstack((a6,a8)))"
   ]
  },
  {
   "cell_type": "code",
   "execution_count": 161,
   "id": "42d0458d",
   "metadata": {},
   "outputs": [
    {
     "name": "stdout",
     "output_type": "stream",
     "text": [
      "[[1. 1. 1. 1. 1. 1. 1. 1. 1. 1. 1. 1. 1. 1. 1. 1. 1. 1. 1. 1.]\n",
      " [1. 1. 1. 1. 1. 1. 1. 1. 1. 1. 1. 1. 1. 1. 1. 1. 1. 1. 1. 1.]]\n"
     ]
    }
   ],
   "source": [
    "a5= myarray1[:,4]\n",
    "a10= myarray1[:,9]\n",
    "print (np.vstack((a5,a10)))"
   ]
  },
  {
   "cell_type": "code",
   "execution_count": null,
   "id": "5803e1a8",
   "metadata": {},
   "outputs": [],
   "source": []
  }
 ],
 "metadata": {
  "kernelspec": {
   "display_name": "Python 3 (ipykernel)",
   "language": "python",
   "name": "python3"
  },
  "language_info": {
   "codemirror_mode": {
    "name": "ipython",
    "version": 3
   },
   "file_extension": ".py",
   "mimetype": "text/x-python",
   "name": "python",
   "nbconvert_exporter": "python",
   "pygments_lexer": "ipython3",
   "version": "3.9.12"
  }
 },
 "nbformat": 4,
 "nbformat_minor": 5
}
